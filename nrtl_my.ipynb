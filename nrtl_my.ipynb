{
 "cells": [
  {
   "cell_type": "code",
   "execution_count": 4,
   "id": "00949795-36da-4dbe-b3f1-cdf20230dca1",
   "metadata": {},
   "outputs": [
    {
     "name": "stdout",
     "output_type": "stream",
     "text": [
      "Collecting thermo\n",
      "  Using cached thermo-0.2.21-py3-none-any.whl (7.4 MB)\n",
      "Requirement already satisfied: scipy in /opt/conda/lib/python3.7/site-packages (from thermo) (1.4.1)\n",
      "Requirement already satisfied: pandas in /opt/conda/lib/python3.7/site-packages (from thermo) (1.3.5)\n",
      "Collecting fluids>=1.0.15\n",
      "  Using cached fluids-1.0.21-py3-none-any.whl (2.3 MB)\n",
      "Collecting chemicals>=1.0.21\n",
      "  Using cached chemicals-1.1.1-py3-none-any.whl (23.3 MB)\n",
      "Requirement already satisfied: numpy in /opt/conda/lib/python3.7/site-packages (from chemicals>=1.0.21->thermo) (1.21.6)\n",
      "Requirement already satisfied: pytz>=2017.3 in /opt/conda/lib/python3.7/site-packages (from pandas->thermo) (2019.3)\n",
      "Requirement already satisfied: python-dateutil>=2.7.3 in /opt/conda/lib/python3.7/site-packages (from pandas->thermo) (2.8.1)\n",
      "Requirement already satisfied: six>=1.5 in /opt/conda/lib/python3.7/site-packages (from python-dateutil>=2.7.3->pandas->thermo) (1.14.0)\n",
      "Installing collected packages: fluids, chemicals, thermo\n",
      "Successfully installed chemicals-1.1.1 fluids-1.0.21 thermo-0.2.21\n",
      "\u001b[33mWARNING: Running pip as the 'root' user can result in broken permissions and conflicting behaviour with the system package manager. It is recommended to use a virtual environment instead: https://pip.pypa.io/warnings/venv\u001b[0m\u001b[33m\n",
      "\u001b[0m\n",
      "\u001b[1m[\u001b[0m\u001b[34;49mnotice\u001b[0m\u001b[1;39;49m]\u001b[0m\u001b[39;49m A new release of pip available: \u001b[0m\u001b[31;49m22.1.2\u001b[0m\u001b[39;49m -> \u001b[0m\u001b[32;49m22.2.2\u001b[0m\n",
      "\u001b[1m[\u001b[0m\u001b[34;49mnotice\u001b[0m\u001b[1;39;49m]\u001b[0m\u001b[39;49m To update, run: \u001b[0m\u001b[32;49mpip install --upgrade pip\u001b[0m\n",
      "Note: you may need to restart the kernel to use updated packages.\n"
     ]
    }
   ],
   "source": [
    "pip install thermo"
   ]
  },
  {
   "cell_type": "code",
   "execution_count": 5,
   "id": "8bb3e184-796a-4c8d-bb58-1e991d5a8329",
   "metadata": {},
   "outputs": [],
   "source": [
    "import numpy as np\n",
    "import pandas as pd\n",
    "from scipy.optimize import minimize\n",
    "from scipy.constants import calorie, R, atm\n",
    "import os\n",
    "import thermo"
   ]
  },
  {
   "cell_type": "code",
   "execution_count": 12,
   "id": "134062db-75f2-40a8-85c5-c9c470136775",
   "metadata": {},
   "outputs": [
    {
     "data": {
      "text/plain": [
       "'/root/Molecular_distillation_simulator'"
      ]
     },
     "execution_count": 12,
     "metadata": {},
     "output_type": "execute_result"
    }
   ],
   "source": [
    "os.getcwd()"
   ]
  },
  {
   "cell_type": "code",
   "execution_count": 6,
   "id": "02bcb311-0406-459b-900b-e5a93518aad4",
   "metadata": {},
   "outputs": [],
   "source": [
    "def nrtl(T, alpha1, alpha2, g1, g2, x):\n",
    "    '''\n",
    "    NRTLによる活量係数の計算\n",
    "\n",
    "    Parameters\n",
    "    ----------\n",
    "    alpha : ndarray(n,n)\n",
    "        Array of NRTL nonrandomness parameters. n = the number of \n",
    "        components in the system.\n",
    "    tau : ndarray(n,n)\n",
    "        Array of NRTL tau parameters. tau[i,i] should be set to 0.\n",
    "    t : float\n",
    "        Temperature (K)\n",
    "    x : ndarray(n,)\n",
    "        Mole fraction of each component\n",
    "\n",
    "    Returns\n",
    "    -------\n",
    "    gamma : ndarray(n,)\n",
    "        Activity coefficient of each component    \n",
    "    '''\n",
    "    alpha = np.asarray([alpha1, alpha2])\n",
    "    g = np.asarray([[0, g1],\n",
    "                  [g2, 0]])\n",
    "    \n",
    "    tau = g / (R*T)\n",
    "    G = np.exp(-alpha*tau)\n",
    "    ncomp = x.shape[0]\n",
    "    gamma = np.zeros_like(x)\n",
    "    summ = 0\n",
    "    \n",
    "    for i in range(ncomp):\n",
    "        summ = 0\n",
    "        for j in range(ncomp):\n",
    "            summ += x[j]*G[i,j]/np.sum(G[:,j]*x)*(tau[i,j] - (np.sum(x*tau[:,j]*G[:,j])/np.sum(G[:,j]*x)))\n",
    "        gamma[i] = np.sum(tau[:,i]*G[:,i]*x)/np.sum(G[:,i]*x) + summ\n",
    "        \n",
    "        return np.exp(gamma)\n",
    "    \n",
    "def opt_test():\n",
    "    T = 138 + 273.15\n",
    "    g_ini = np.asarray([[0, 1.0],\n",
    "                    [1.0, 0]])\n",
    "    tau_ini = g_ini / (R*T)\n",
    "    alpha_ini = 0.2\n",
    "    x_ini = np.asarray([0.9898662364, 0.0101337636])\n",
    "    gamma_ini = nrtl(alpha_ini, tau_ini, x_ini)\n",
    "    print(gamma_ini)\n",
    "    \n",
    "def equilibrium(pi, x, y, p):\n",
    "    '''\n",
    "    低圧の気液平衡関係式から活量係数を求める\n",
    "    '''\n",
    "    gamma_lab = (pi * y) / (p * x)\n",
    "    return gamma_lab\n",
    "\n",
    "def lab_read(pi):\n",
    "    '''\n",
    "    実験データの読み取り\n",
    "    3atm, 5atm, 8atm, 11.2atmそれぞれの圧力条件でのデータ\n",
    "    '''\n",
    "    df_lab = pd.read_csv(\"/root/Molecular_distillation_simulator/table.csv\").drop(index=[0, 1]).reset_index().drop(columns=\"index\")\n",
    "    \n",
    "    df_atm3 = pd.DataFrame(df_lab.iloc[0:10, 0:4]).set_axis(['No.', 'Liquid phase methanol mole fraction', \n",
    "                                                         'Vapor phase methanol mole fraction', 'Temperature [℃]'], axis=1)\n",
    "    # print(df_atm3)\n",
    "    df_atm5 = pd.DataFrame(df_lab.iloc[0:11, 4:8]).set_axis(['No.', 'Liquid phase methanol mole fraction', \n",
    "                                                         'Vapor phase methanol mole fraction', 'Temperature [℃]'], axis=1)\n",
    "    # print(df_atm5)\n",
    "    df_atm8 = pd.DataFrame(df_lab.iloc[12:24, 0:4]).set_axis(['No.', 'Liquid phase methanol mole fraction', \n",
    "                                                          'Vapor phase methanol mole fraction', 'Temperature [℃]'], axis=1).reset_index().drop(columns=\"index\")\n",
    "    # print(df_atm8)\n",
    "    df_atm11 = pd.DataFrame(df_lab.iloc[12:23, 4:8]).set_axis(['No.', 'Liquid phase methanol mole fraction', \n",
    "                                                          'Vapor phase methanol mole fraction', 'Temperature [℃]'], axis=1).reset_index().drop(columns=\"index\")\n",
    "    # print(df_atm11)\n",
    "    if pi == 3:\n",
    "        return df_atm3\n",
    "    elif pi == 5:\n",
    "        return df_atm5\n",
    "    elif pi == 8:\n",
    "        return df_atm8\n",
    "    else:\n",
    "        return df_atm11"
   ]
  },
  {
   "cell_type": "code",
   "execution_count": 41,
   "id": "d3efc466-467b-4233-a4af-574e0afe7f6c",
   "metadata": {},
   "outputs": [
    {
     "ename": "TypeError",
     "evalue": "float() argument must be a string or a number, not 'function'",
     "output_type": "error",
     "traceback": [
      "\u001b[0;31m---------------------------------------------------------------------------\u001b[0m",
      "\u001b[0;31mTypeError\u001b[0m                                 Traceback (most recent call last)",
      "\u001b[0;32m<ipython-input-41-a7668280db79>\u001b[0m in \u001b[0;36m<module>\u001b[0;34m\u001b[0m\n\u001b[1;32m     38\u001b[0m \u001b[0mbounds_x4\u001b[0m \u001b[0;34m=\u001b[0m \u001b[0;34m(\u001b[0m\u001b[0;34m-\u001b[0m\u001b[0;36m100\u001b[0m\u001b[0;34m,\u001b[0m \u001b[0;36m100\u001b[0m\u001b[0;34m)\u001b[0m\u001b[0;34m\u001b[0m\u001b[0;34m\u001b[0m\u001b[0m\n\u001b[1;32m     39\u001b[0m \u001b[0mbound\u001b[0m \u001b[0;34m=\u001b[0m \u001b[0;34m(\u001b[0m\u001b[0mbounds_x1\u001b[0m\u001b[0;34m,\u001b[0m \u001b[0mbounds_x2\u001b[0m\u001b[0;34m,\u001b[0m \u001b[0mbounds_x3\u001b[0m\u001b[0;34m,\u001b[0m \u001b[0mbounds_x4\u001b[0m\u001b[0;34m)\u001b[0m\u001b[0;34m\u001b[0m\u001b[0;34m\u001b[0m\u001b[0m\n\u001b[0;32m---> 40\u001b[0;31m \u001b[0mresult\u001b[0m \u001b[0;34m=\u001b[0m \u001b[0mminimize\u001b[0m\u001b[0;34m(\u001b[0m\u001b[0mE\u001b[0m\u001b[0;34m,\u001b[0m \u001b[0mx0\u001b[0m\u001b[0;34m,\u001b[0m \u001b[0mmethod\u001b[0m\u001b[0;34m=\u001b[0m\u001b[0;34m\"Nelder-Mead\"\u001b[0m\u001b[0;34m,\u001b[0m \u001b[0mbounds\u001b[0m\u001b[0;34m=\u001b[0m\u001b[0mbound\u001b[0m\u001b[0;34m)\u001b[0m\u001b[0;34m\u001b[0m\u001b[0;34m\u001b[0m\u001b[0m\n\u001b[0m",
      "\u001b[0;32m/opt/conda/lib/python3.7/site-packages/scipy/optimize/_minimize.py\u001b[0m in \u001b[0;36mminimize\u001b[0;34m(fun, x0, args, method, jac, hess, hessp, bounds, constraints, tol, callback, options)\u001b[0m\n\u001b[1;32m    596\u001b[0m \u001b[0;34m\u001b[0m\u001b[0m\n\u001b[1;32m    597\u001b[0m     \u001b[0;32mif\u001b[0m \u001b[0mmeth\u001b[0m \u001b[0;34m==\u001b[0m \u001b[0;34m'nelder-mead'\u001b[0m\u001b[0;34m:\u001b[0m\u001b[0;34m\u001b[0m\u001b[0;34m\u001b[0m\u001b[0m\n\u001b[0;32m--> 598\u001b[0;31m         \u001b[0;32mreturn\u001b[0m \u001b[0m_minimize_neldermead\u001b[0m\u001b[0;34m(\u001b[0m\u001b[0mfun\u001b[0m\u001b[0;34m,\u001b[0m \u001b[0mx0\u001b[0m\u001b[0;34m,\u001b[0m \u001b[0margs\u001b[0m\u001b[0;34m,\u001b[0m \u001b[0mcallback\u001b[0m\u001b[0;34m,\u001b[0m \u001b[0;34m**\u001b[0m\u001b[0moptions\u001b[0m\u001b[0;34m)\u001b[0m\u001b[0;34m\u001b[0m\u001b[0;34m\u001b[0m\u001b[0m\n\u001b[0m\u001b[1;32m    599\u001b[0m     \u001b[0;32melif\u001b[0m \u001b[0mmeth\u001b[0m \u001b[0;34m==\u001b[0m \u001b[0;34m'powell'\u001b[0m\u001b[0;34m:\u001b[0m\u001b[0;34m\u001b[0m\u001b[0;34m\u001b[0m\u001b[0m\n\u001b[1;32m    600\u001b[0m         \u001b[0;32mreturn\u001b[0m \u001b[0m_minimize_powell\u001b[0m\u001b[0;34m(\u001b[0m\u001b[0mfun\u001b[0m\u001b[0;34m,\u001b[0m \u001b[0mx0\u001b[0m\u001b[0;34m,\u001b[0m \u001b[0margs\u001b[0m\u001b[0;34m,\u001b[0m \u001b[0mcallback\u001b[0m\u001b[0;34m,\u001b[0m \u001b[0;34m**\u001b[0m\u001b[0moptions\u001b[0m\u001b[0;34m)\u001b[0m\u001b[0;34m\u001b[0m\u001b[0;34m\u001b[0m\u001b[0m\n",
      "\u001b[0;32m/opt/conda/lib/python3.7/site-packages/scipy/optimize/optimize.py\u001b[0m in \u001b[0;36m_minimize_neldermead\u001b[0;34m(func, x0, args, callback, maxiter, maxfev, disp, return_all, initial_simplex, xatol, fatol, adaptive, **unknown_options)\u001b[0m\n\u001b[1;32m    584\u001b[0m \u001b[0;34m\u001b[0m\u001b[0m\n\u001b[1;32m    585\u001b[0m     \u001b[0;32mfor\u001b[0m \u001b[0mk\u001b[0m \u001b[0;32min\u001b[0m \u001b[0mrange\u001b[0m\u001b[0;34m(\u001b[0m\u001b[0mN\u001b[0m \u001b[0;34m+\u001b[0m \u001b[0;36m1\u001b[0m\u001b[0;34m)\u001b[0m\u001b[0;34m:\u001b[0m\u001b[0;34m\u001b[0m\u001b[0;34m\u001b[0m\u001b[0m\n\u001b[0;32m--> 586\u001b[0;31m         \u001b[0mfsim\u001b[0m\u001b[0;34m[\u001b[0m\u001b[0mk\u001b[0m\u001b[0;34m]\u001b[0m \u001b[0;34m=\u001b[0m \u001b[0mfunc\u001b[0m\u001b[0;34m(\u001b[0m\u001b[0msim\u001b[0m\u001b[0;34m[\u001b[0m\u001b[0mk\u001b[0m\u001b[0;34m]\u001b[0m\u001b[0;34m)\u001b[0m\u001b[0;34m\u001b[0m\u001b[0;34m\u001b[0m\u001b[0m\n\u001b[0m\u001b[1;32m    587\u001b[0m \u001b[0;34m\u001b[0m\u001b[0m\n\u001b[1;32m    588\u001b[0m     \u001b[0mind\u001b[0m \u001b[0;34m=\u001b[0m \u001b[0mnumpy\u001b[0m\u001b[0;34m.\u001b[0m\u001b[0margsort\u001b[0m\u001b[0;34m(\u001b[0m\u001b[0mfsim\u001b[0m\u001b[0;34m)\u001b[0m\u001b[0;34m\u001b[0m\u001b[0;34m\u001b[0m\u001b[0m\n",
      "\u001b[0;31mTypeError\u001b[0m: float() argument must be a string or a number, not 'function'"
     ]
    }
   ],
   "source": [
    "#ラボデータ、初期条件\n",
    "df_lab = lab_read(3)\n",
    "pi = 3 * atm\n",
    "t = np.float64(df_lab.iloc[0, 3])\n",
    "T = t + 273.15\n",
    "\n",
    "#蒸気圧 ※今後は厳密計算を行う必要がある\n",
    "from thermo.vapor_pressure import *\n",
    "p1 = VaporPressure(CASRN=\"67-56-1\").calculate(T, \"ANTOINE_POLING\")\n",
    "p2 = VaporPressure(CASRN=\"7732-18-5\").calculate(T, \"ANTOINE_POLING\")\n",
    "\n",
    "#ラボデータを用いて計算した活量係数： gamma_lab\n",
    "gamma_lab1 = equilibrium(pi, np.float64(df_lab.iloc[0, 1]), np.float64(df_lab.iloc[0, 2]), p1)\n",
    "gamma_lab2 = equilibrium(pi, 1 - np.float64(df_lab.iloc[0, 1]), 1 - np.float64(df_lab.iloc[0, 2]), p2)\n",
    "\n",
    "#NRTLから計算した活量係数：　gamma_cal\n",
    "x_ini = np.asarray([0.9, 0.1])\n",
    "#alpha_ini = np.asarray([0.2, 0.2])\n",
    "#g_ini = np.asarray([[0, 2022],[1000, 0]])\n",
    "alpha_ini1, alpha_ini2, g_ini1, g_ini2 = 0.2, 0.2, 100, 100 # g_iniは適当な初期値\n",
    "\n",
    "gamma_cal = nrtl(T, alpha_ini1, alpha_ini2, g_ini1, g_ini2, x_ini)\n",
    "\n",
    "#誤差の関数\n",
    "#E = np.sqrt((gamma_lab1 - gamma_cal[0])**2) + np.sqrt((gamma_lab2 - gamma_cal[1])**2)\n",
    "def E(X):\n",
    "    gamma_lab1 = equilibrium(pi, np.float64(df_lab.iloc[0, 1]), np.float64(df_lab.iloc[0, 2]), p1)\n",
    "    gamma_lab2 = equilibrium(pi, 1 - np.float64(df_lab.iloc[0, 1]), 1 - np.float64(df_lab.iloc[0, 2]), p2)\n",
    "    gamma_cal = nrtl(T, X[0], X[1], X[2], X[3], x_ini)\n",
    "    np.sqrt((gamma_lab1 - gamma_cal[0])**2) + np.sqrt((gamma_lab2 - gamma_cal[1])**2)\n",
    "    return E\n",
    "\n",
    "#Eのoptimize\n",
    "x0 = [0.2, 0.2, 100, 100]\n",
    "bounds_x1 = (0.20, 0.47)\n",
    "bounds_x2 = (0.20, 0.47)\n",
    "bounds_x3 = (-100, 100)\n",
    "bounds_x4 = (-100, 100)\n",
    "bound = (bounds_x1, bounds_x2, bounds_x3, bounds_x4)\n",
    "result = minimize(E, x0, method=\"Nelder-Mead\", bounds=bound)"
   ]
  },
  {
   "cell_type": "code",
   "execution_count": 25,
   "id": "477e8e77-f8e9-48b0-a6ea-379b71af6a17",
   "metadata": {},
   "outputs": [
    {
     "data": {
      "text/plain": [
       "((0.2, 0.47), (0.2, 0.47), (-10000, 10000), (-10000, 10000))"
      ]
     },
     "execution_count": 25,
     "metadata": {},
     "output_type": "execute_result"
    }
   ],
   "source": []
  }
 ],
 "metadata": {
  "instance_type": "ml.t3.medium",
  "kernelspec": {
   "display_name": "Python 3 (Data Science)",
   "language": "python",
   "name": "python3__SAGEMAKER_INTERNAL__arn:aws:sagemaker:ap-northeast-1:102112518831:image/datascience-1.0"
  },
  "language_info": {
   "codemirror_mode": {
    "name": "ipython",
    "version": 3
   },
   "file_extension": ".py",
   "mimetype": "text/x-python",
   "name": "python",
   "nbconvert_exporter": "python",
   "pygments_lexer": "ipython3",
   "version": "3.7.10"
  }
 },
 "nbformat": 4,
 "nbformat_minor": 5
}
