{
 "cells": [
  {
   "cell_type": "markdown",
   "id": "aff07b32-b25b-44c5-9c88-e9c7e1c4089d",
   "metadata": {},
   "source": [
    "# 計算手順\n",
    "- ① 状態方程式（Van der Waals式など）を用いて、圧力から液相、気相の体積を計算\n",
    "- ② 液相と気相のフガシティを計算\n",
    "- ③ フガシティが等しい時の液相、気相のモル分率を計算"
   ]
  },
  {
   "cell_type": "code",
   "execution_count": null,
   "id": "f7e3c803-aa91-46d9-926e-effbe009b60b",
   "metadata": {},
   "outputs": [],
   "source": [
    "import math"
   ]
  },
  {
   "cell_type": "code",
   "execution_count": null,
   "id": "181c26b3-c7fb-4eb3-9358-610d8fd461d3",
   "metadata": {},
   "outputs": [],
   "source": [
    "e = math.e\n",
    "pi = math.pi\n",
    "T = 353.15 #k\n",
    "#math.log(e, e)\n",
    "\n",
    "#理想気体の状態方程式\n",
    "#P * V = n * R * T\n",
    " #Van der Waals\n",
    "#P = R * T / (V - b) - a / V**2\n",
    "\n",
    "#フガシティ\n",
    "#fL = fG\n",
    "#fL = φL ∗ xi ∗ P\n",
    "#fG = φG ∗ yi ∗ P\n",
    "φL = e**()"
   ]
  }
 ],
 "metadata": {
  "kernelspec": {
   "display_name": "d2l:Python",
   "language": "python",
   "name": "conda-env-d2l-py"
  },
  "language_info": {
   "codemirror_mode": {
    "name": "ipython",
    "version": 3
   },
   "file_extension": ".py",
   "mimetype": "text/x-python",
   "name": "python",
   "nbconvert_exporter": "python",
   "pygments_lexer": "ipython3",
   "version": "3.9.13"
  }
 },
 "nbformat": 4,
 "nbformat_minor": 5
}
