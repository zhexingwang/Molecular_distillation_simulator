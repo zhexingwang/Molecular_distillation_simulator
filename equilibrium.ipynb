{
 "cells": [
  {
   "cell_type": "markdown",
   "id": "aff07b32-b25b-44c5-9c88-e9c7e1c4089d",
   "metadata": {},
   "source": [
    "# 計算手順\n",
    "- ① 状態方程式（Van der Waals式など）を用いて、圧力から液相、気相の体積を計算\n",
    "- ② 液相と気相のフガシティを計算\n",
    "- ③ フガシティが等しい時の液相、気相のモル分率を計算"
   ]
  },
  {
   "cell_type": "code",
   "execution_count": 1,
   "id": "9b631c0a-416d-4718-a151-a491f46f0453",
   "metadata": {},
   "outputs": [
    {
     "name": "stdout",
     "output_type": "stream",
     "text": [
      "Requirement already satisfied: sympy in /home/studio-lab-user/.conda/envs/d2l/lib/python3.9/site-packages (1.10.1)\n",
      "Requirement already satisfied: mpmath>=0.19 in /home/studio-lab-user/.conda/envs/d2l/lib/python3.9/site-packages (from sympy) (1.2.1)\n",
      "Note: you may need to restart the kernel to use updated packages.\n"
     ]
    }
   ],
   "source": [
    "pip install sympy"
   ]
  },
  {
   "cell_type": "code",
   "execution_count": 11,
   "id": "f7e3c803-aa91-46d9-926e-effbe009b60b",
   "metadata": {},
   "outputs": [],
   "source": [
    "from scipy.optimize import fsolve\n",
    "import math\n",
    "import sympy\n",
    "import re\n",
    "import numpy as np"
   ]
  },
  {
   "cell_type": "code",
   "execution_count": 18,
   "id": "181c26b3-c7fb-4eb3-9358-610d8fd461d3",
   "metadata": {},
   "outputs": [
    {
     "name": "stdout",
     "output_type": "stream",
     "text": [
      "\n",
      "#####  Results of The fugacity coefficient  #####\n",
      "       \n",
      "φ1:  1.0574995651175343\n",
      "       \n",
      "φ2:  0.801865147851965\n",
      "0.9201916807315393\n",
      "0.9201916807315393\n",
      "[0.0008774]\n"
     ]
    }
   ],
   "source": [
    "# Variables\n",
    "T = 460.\t\t\t#[K] - Temperature\n",
    "P = 40.*10**(5)\t\t\t#[Pa] - Pressure\n",
    "R=8.314\t\t\t#[J/mol*K] - Universal gas constant\n",
    "# component 1 = nitrogen\n",
    "# component 2 = n-Butane\n",
    "y1 = 0.4974\t\t\t# Mole percent of nitrogen\n",
    "y2 = 0.5026\t\t\t# Mole percent of n-Butane\n",
    "Tc_nit = 126.2\t\t#[K]\n",
    "Pc_nit = 34.00*10**(5)\t\t\t#[Pa]\n",
    "Tc_but = 425.1\t\t\t#[K]\n",
    "Pc_but = 37.96*10**(5)\t\t\t#[Pa]\n",
    "\n",
    "# (1). van der Walls equation of state\n",
    "\n",
    "# The fugacity coefficient of component 1 in a binary mixture following van der Walls equation of state is given by,\n",
    "# math.log(phi_1) = b_1/(V-b) - math.log(Z-B) -2*(y1*a_11 + y2*a_12)/(R*T*V)\n",
    "# and for component 2 is given by,\n",
    "# math.log(phi_2) = b_2/(V-b) - math.log(Z-B) -2*(y1*a_12 + y2*a_22)/(R*T*V)\n",
    "# Where B = (P*b)/(R*T)\n",
    "\n",
    "# Calculations\n",
    "# For componenet 1 (nitrogen)\n",
    "a_1 = (27*R**(2)*Tc_nit**(2))/(64*Pc_nit)\t\t\t#[Pa-m**(6)/mol**(2)]\n",
    "b_1 = (R*Tc_nit)/(8*Pc_nit)\t\t\t#[m**(3)/mol]\n",
    "\n",
    "# Similarly for componenet 2 (n-Butane)\n",
    "a_2 = (27*R**(2)*Tc_but**(2))/(64*Pc_but)\t\t#[Pa-m**(6)/mol**(2)]\n",
    "b_2 = (R*Tc_but)/(8*Pc_but)\t\t\t#[m**(3)/mol]\n",
    "\n",
    "# Here\n",
    "a_11 = a_1\n",
    "a_22 = a_2\n",
    "# For cross coefficient\n",
    "a_12 = (a_1*a_2)**(1./2)\t\t#[Pa-m**(6)/mol**(2)]\n",
    "\n",
    "# For the mixture #初期値じゃなくて平衡のときの組成から計算\n",
    "a = y1**(2)*a_11 + y2**(2)*a_22 + 2*y1*y2*a_12\t\t\t#[Pa-m**(6)/mol**(2)]\n",
    "b = y1*b_1 + y2*b_2\t\t\t#[m**(3)/mol]\n",
    "\n",
    "# The cubic form of the van der Walls equation of state is given by,\n",
    "# V**(3) - (b+(R*T)/P)*V**(2) + (a/P)*V - (a*b)/P = 0\n",
    "# Substituting the value and solving for V, we get\n",
    "# Solving the cubic equation\n",
    "def f(V): \n",
    "    return V**(3)-(b+(R*T)/P)*V**(2)+(a/P)*V-(a*b)/P\n",
    "V_1=fsolve(f,-1)\n",
    "V_2=fsolve(f,0)\n",
    "V_3=fsolve(f,1)\n",
    "# The molar volume V = V_3, the other two roots are imaginary\n",
    "V = V_3\t\t\t#[m**(3)/mol]\n",
    "\n",
    "# The comprssibility factor of the mixture is \n",
    "Z = (P*V)/(R*T)\n",
    "# And B can also be calculated as\n",
    "B = (P*b)/(R*T)\n",
    "\n",
    "# The fugacity coefficient of component 1 in the mixture is\n",
    "phi_1 = math.exp(b_1/(V-b) - math.log(Z-B) -2*(y1*a_11 + y2*a_12)/(R*T*V))\n",
    "# Similarly fugacity coefficient of component 2 in the mixture is \n",
    "phi_2 = math.exp(b_2/(V-b) - math.log(Z-B) -2*(y1*a_12 + y2*a_22)/(R*T*V))\n",
    "\n",
    "# The fugacity coefficient of the mixture is given by,\n",
    "# math.log(phi) = y1*math.log(phi_1) + y2*math.log(phi_2)\n",
    "phi = math.exp(y1*math.log(phi_1) + y2*math.log(phi_2))\n",
    "\n",
    "# Also the fugacity coefficient of the mixture following van der Walls equation of state is given by,\n",
    "# math.log(phi) = b/(V-b) - math.log(Z-B) -2*a/(R*T*V)\n",
    "phi_dash = math.exp(b/(V-b) - math.log(Z-B) -2*a/(R*T*V))\n",
    "# The result is same as obtained above\n",
    "\n",
    "# Results\n",
    "\n",
    "###\n",
    "#print (\" 1van der Walls equation of state\");\n",
    "#print (\"  The value of fugacity coefficient of component 1 nitrogen) is %f\"%(phi_1));\n",
    "#print (\"  The value of fugacity coefficient of component 2 n-butane) is %f\"%(phi_2));\n",
    "#print (\"  The value of fugacity coefficient of the mixture is %f\"%(phi));\n",
    "#print (\"  Also the fugacity coefficient of the mixture from van der Walls equation of state is %f which is same as above)\"%(phi_dash));\n",
    "###\n",
    "#print(phi_1,phi_2,phi,phi_dash)\n",
    "\n",
    "print(\"\\n#####  Results of The fugacity coefficient  #####\")\n",
    "print(\"       \\nφ1: \",phi_1)\n",
    "print(\"       \\nφ2: \",phi_2)\n",
    "print(phi)\n",
    "print(phi_dash)\n",
    "print(V)"
   ]
  },
  {
   "cell_type": "code",
   "execution_count": 4,
   "id": "2a449871-4fa8-4158-97f9-50d4e679d0a0",
   "metadata": {},
   "outputs": [
    {
     "ename": "NameError",
     "evalue": "name 'x2x1' is not defined",
     "output_type": "error",
     "traceback": [
      "\u001b[0;31m---------------------------------------------------------------------------\u001b[0m",
      "\u001b[0;31mNameError\u001b[0m                                 Traceback (most recent call last)",
      "Input \u001b[0;32mIn [4]\u001b[0m, in \u001b[0;36m<cell line: 20>\u001b[0;34m()\u001b[0m\n\u001b[1;32m     18\u001b[0m x \u001b[38;5;241m=\u001b[39m np\u001b[38;5;241m.\u001b[39mzeros(\u001b[38;5;241m2\u001b[39m)\n\u001b[1;32m     19\u001b[0m y \u001b[38;5;241m=\u001b[39m np\u001b[38;5;241m.\u001b[39mzeros(\u001b[38;5;241m2\u001b[39m)\n\u001b[0;32m---> 20\u001b[0m x[\u001b[38;5;241m0\u001b[39m] \u001b[38;5;241m=\u001b[39m np\u001b[38;5;241m.\u001b[39marray(sympy\u001b[38;5;241m.\u001b[39mfactor(x1 \u001b[38;5;241m/\u001b[39m (x1 \u001b[38;5;241m+\u001b[39m x1 \u001b[38;5;241m*\u001b[39m \u001b[43mx2x1\u001b[49m)))\n\u001b[1;32m     21\u001b[0m x[\u001b[38;5;241m1\u001b[39m] \u001b[38;5;241m=\u001b[39m np\u001b[38;5;241m.\u001b[39marray(sympy\u001b[38;5;241m.\u001b[39mfactor(x2 \u001b[38;5;241m/\u001b[39m (x2 \u001b[38;5;241m+\u001b[39m x2 \u001b[38;5;241m*\u001b[39m x1x2)))\n\u001b[1;32m     22\u001b[0m \u001b[38;5;28mprint\u001b[39m(\u001b[38;5;124m\"\u001b[39m\u001b[38;5;130;01m\\n\u001b[39;00m\u001b[38;5;124m#####  Results of The Mole Percent of each component  #####\u001b[39m\u001b[38;5;124m\"\u001b[39m)\n",
      "\u001b[0;31mNameError\u001b[0m: name 'x2x1' is not defined"
     ]
    }
   ],
   "source": [
    "# when phi_1 = phi_2\n",
    "# math.exp(b_1/(V-b) - math.log(Z-B) -2*(y1*a_11 + (1-y1)*a_12)/(R*T*V)) \n",
    "# = math.exp(b_2/(V-b) - math.log(Z-B) -2*(y1*a_12 + (1-y1)*a_22)/(R*T*V));\n",
    "# print(b_1/(V-b), b_2/(V-b), math.log(Z-B), a_11, a_12, a_22, R*T*V)\n",
    "def f(x1):\n",
    "    return phi_1 * x1 * P\n",
    "def g(x2):\n",
    "    return phi_2 * x2 * P\n",
    "def h(x1, x2):\n",
    "    return f(x1) - g(x2)\n",
    "sympy.var('x1y1, x2y2')\n",
    "#print(1 / (1 + 1.31879976072082))\n",
    "#print(1.31879976072082 / (1 + 1.31879976072082))\n",
    "x1y1 = np.array(sympy.solve(phi_1 * x1y1 * P - phi_2 * P, x1y1)) #x1 / y1\n",
    "x2y2 = np.array(sympy.solve(phi_1 * P - phi_2 * x2y2 * P, x2y2)) #x2 / y2\n",
    "#print(x1x2, x2x1)\n",
    "sympy.var('x1, x2')\n",
    "x = np.zeros(2)\n",
    "y = np.zeros(2)\n",
    "x[0] = np.array(sympy.factor(x1 / (x1 + x1 * x2x1)))\n",
    "x[1] = np.array(sympy.factor(x2 / (x2 + x2 * x1x2)))\n",
    "print(\"\\n#####  Results of The Mole Percent of each component  #####\")\n",
    "print(\"       \\nx1(nitrogen): \", x[0])\n",
    "print(\"       \\ny1(nitrogen): \", x[1])"
   ]
  },
  {
   "cell_type": "code",
   "execution_count": 21,
   "id": "3957c370-d64c-49b6-b5fa-2c08ef637702",
   "metadata": {},
   "outputs": [
    {
     "name": "stdout",
     "output_type": "stream",
     "text": [
      "[0.0008774] 4000000.0 8.314 460.0\n"
     ]
    }
   ],
   "source": [
    "from sympy import *\n",
    "print(V,P,R,T)"
   ]
  },
  {
   "cell_type": "code",
   "execution_count": 30,
   "id": "7436cb40-fbf2-478a-bb6c-6e801c4854ad",
   "metadata": {},
   "outputs": [
    {
     "ename": "_CoeffExpValueError",
     "evalue": "expr not of form a*x**b: 1139.73669985718",
     "output_type": "error",
     "traceback": [
      "\u001b[0;31m---------------------------------------------------------------------------\u001b[0m",
      "\u001b[0;31m_CoeffExpValueError\u001b[0m                       Traceback (most recent call last)",
      "Input \u001b[0;32mIn [30]\u001b[0m, in \u001b[0;36m<cell line: 3>\u001b[0;34m()\u001b[0m\n\u001b[1;32m      1\u001b[0m x\u001b[38;5;241m=\u001b[39mSymbol(\u001b[38;5;124m'\u001b[39m\u001b[38;5;124mx\u001b[39m\u001b[38;5;124m'\u001b[39m)\n\u001b[1;32m      2\u001b[0m f \u001b[38;5;241m=\u001b[39m P\u001b[38;5;241m-\u001b[39m(R\u001b[38;5;241m*\u001b[39mT\u001b[38;5;241m/\u001b[39mx)\n\u001b[0;32m----> 3\u001b[0m \u001b[43mintegrate\u001b[49m\u001b[43m(\u001b[49m\u001b[43mf\u001b[49m\u001b[43m,\u001b[49m\u001b[43m \u001b[49m\u001b[43m(\u001b[49m\u001b[43mx\u001b[49m\u001b[43m,\u001b[49m\u001b[43m \u001b[49m\u001b[43mV\u001b[49m\u001b[43m,\u001b[49m\u001b[43m \u001b[49m\u001b[43moo\u001b[49m\u001b[43m)\u001b[49m\u001b[43m)\u001b[49m\n",
      "File \u001b[0;32m~/.conda/envs/d2l/lib/python3.9/site-packages/sympy/integrals/integrals.py:1566\u001b[0m, in \u001b[0;36mintegrate\u001b[0;34m(meijerg, conds, risch, heurisch, manual, *args, **kwargs)\u001b[0m\n\u001b[1;32m   1563\u001b[0m integral \u001b[38;5;241m=\u001b[39m Integral(\u001b[38;5;241m*\u001b[39margs, \u001b[38;5;241m*\u001b[39m\u001b[38;5;241m*\u001b[39mkwargs)\n\u001b[1;32m   1565\u001b[0m \u001b[38;5;28;01mif\u001b[39;00m \u001b[38;5;28misinstance\u001b[39m(integral, Integral):\n\u001b[0;32m-> 1566\u001b[0m     \u001b[38;5;28;01mreturn\u001b[39;00m \u001b[43mintegral\u001b[49m\u001b[38;5;241;43m.\u001b[39;49m\u001b[43mdoit\u001b[49m\u001b[43m(\u001b[49m\u001b[38;5;241;43m*\u001b[39;49m\u001b[38;5;241;43m*\u001b[39;49m\u001b[43mdoit_flags\u001b[49m\u001b[43m)\u001b[49m\n\u001b[1;32m   1567\u001b[0m \u001b[38;5;28;01melse\u001b[39;00m:\n\u001b[1;32m   1568\u001b[0m     new_args \u001b[38;5;241m=\u001b[39m [a\u001b[38;5;241m.\u001b[39mdoit(\u001b[38;5;241m*\u001b[39m\u001b[38;5;241m*\u001b[39mdoit_flags) \u001b[38;5;28;01mif\u001b[39;00m \u001b[38;5;28misinstance\u001b[39m(a, Integral) \u001b[38;5;28;01melse\u001b[39;00m a\n\u001b[1;32m   1569\u001b[0m         \u001b[38;5;28;01mfor\u001b[39;00m a \u001b[38;5;129;01min\u001b[39;00m integral\u001b[38;5;241m.\u001b[39margs]\n",
      "File \u001b[0;32m~/.conda/envs/d2l/lib/python3.9/site-packages/sympy/integrals/integrals.py:597\u001b[0m, in \u001b[0;36mIntegral.doit\u001b[0;34m(self, **hints)\u001b[0m\n\u001b[1;32m    592\u001b[0m meijerg1 \u001b[38;5;241m=\u001b[39m meijerg\n\u001b[1;32m    593\u001b[0m \u001b[38;5;28;01mif\u001b[39;00m (meijerg \u001b[38;5;129;01mis\u001b[39;00m \u001b[38;5;129;01mnot\u001b[39;00m \u001b[38;5;28;01mFalse\u001b[39;00m \u001b[38;5;129;01mand\u001b[39;00m\n\u001b[1;32m    594\u001b[0m         \u001b[38;5;28mlen\u001b[39m(xab) \u001b[38;5;241m==\u001b[39m \u001b[38;5;241m3\u001b[39m \u001b[38;5;129;01mand\u001b[39;00m xab[\u001b[38;5;241m1\u001b[39m]\u001b[38;5;241m.\u001b[39mis_extended_real \u001b[38;5;129;01mand\u001b[39;00m xab[\u001b[38;5;241m2\u001b[39m]\u001b[38;5;241m.\u001b[39mis_extended_real\n\u001b[1;32m    595\u001b[0m         \u001b[38;5;129;01mand\u001b[39;00m \u001b[38;5;129;01mnot\u001b[39;00m function\u001b[38;5;241m.\u001b[39mis_Poly \u001b[38;5;129;01mand\u001b[39;00m\n\u001b[1;32m    596\u001b[0m         (xab[\u001b[38;5;241m1\u001b[39m]\u001b[38;5;241m.\u001b[39mhas(oo, \u001b[38;5;241m-\u001b[39moo) \u001b[38;5;129;01mor\u001b[39;00m xab[\u001b[38;5;241m2\u001b[39m]\u001b[38;5;241m.\u001b[39mhas(oo, \u001b[38;5;241m-\u001b[39moo))):\n\u001b[0;32m--> 597\u001b[0m     ret \u001b[38;5;241m=\u001b[39m \u001b[43mtry_meijerg\u001b[49m\u001b[43m(\u001b[49m\u001b[43mfunction\u001b[49m\u001b[43m,\u001b[49m\u001b[43m \u001b[49m\u001b[43mxab\u001b[49m\u001b[43m)\u001b[49m\n\u001b[1;32m    598\u001b[0m     \u001b[38;5;28;01mif\u001b[39;00m ret \u001b[38;5;129;01mis\u001b[39;00m \u001b[38;5;129;01mnot\u001b[39;00m \u001b[38;5;28;01mNone\u001b[39;00m:\n\u001b[1;32m    599\u001b[0m         function \u001b[38;5;241m=\u001b[39m ret\n",
      "File \u001b[0;32m~/.conda/envs/d2l/lib/python3.9/site-packages/sympy/integrals/integrals.py:567\u001b[0m, in \u001b[0;36mIntegral.doit.<locals>.try_meijerg\u001b[0;34m(function, xab)\u001b[0m\n\u001b[1;32m    565\u001b[0m x, a, b \u001b[38;5;241m=\u001b[39m xab\n\u001b[1;32m    566\u001b[0m \u001b[38;5;28;01mtry\u001b[39;00m:\n\u001b[0;32m--> 567\u001b[0m     res \u001b[38;5;241m=\u001b[39m \u001b[43mmeijerint_definite\u001b[49m\u001b[43m(\u001b[49m\u001b[43mfunction\u001b[49m\u001b[43m,\u001b[49m\u001b[43m \u001b[49m\u001b[43mx\u001b[49m\u001b[43m,\u001b[49m\u001b[43m \u001b[49m\u001b[43ma\u001b[49m\u001b[43m,\u001b[49m\u001b[43m \u001b[49m\u001b[43mb\u001b[49m\u001b[43m)\u001b[49m\n\u001b[1;32m    568\u001b[0m \u001b[38;5;28;01mexcept\u001b[39;00m \u001b[38;5;167;01mNotImplementedError\u001b[39;00m:\n\u001b[1;32m    569\u001b[0m     _debug(\u001b[38;5;124m'\u001b[39m\u001b[38;5;124mNotImplementedError \u001b[39m\u001b[38;5;124m'\u001b[39m\n\u001b[1;32m    570\u001b[0m         \u001b[38;5;124m'\u001b[39m\u001b[38;5;124mfrom meijerint_definite\u001b[39m\u001b[38;5;124m'\u001b[39m)\n",
      "File \u001b[0;32m~/.conda/envs/d2l/lib/python3.9/site-packages/sympy/integrals/meijerint.py:1901\u001b[0m, in \u001b[0;36mmeijerint_definite\u001b[0;34m(f, x, a, b)\u001b[0m\n\u001b[1;32m   1899\u001b[0m _debug(\u001b[38;5;124m'\u001b[39m\u001b[38;5;124mChanged limits to\u001b[39m\u001b[38;5;124m'\u001b[39m, a, b)\n\u001b[1;32m   1900\u001b[0m _debug(\u001b[38;5;124m'\u001b[39m\u001b[38;5;124mChanged function to\u001b[39m\u001b[38;5;124m'\u001b[39m, f)\n\u001b[0;32m-> 1901\u001b[0m res \u001b[38;5;241m=\u001b[39m \u001b[43m_meijerint_definite_2\u001b[49m\u001b[43m(\u001b[49m\u001b[43mf\u001b[49m\u001b[43m,\u001b[49m\u001b[43m \u001b[49m\u001b[43mx\u001b[49m\u001b[43m)\u001b[49m\n\u001b[1;32m   1902\u001b[0m \u001b[38;5;28;01mif\u001b[39;00m res:\n\u001b[1;32m   1903\u001b[0m     \u001b[38;5;28;01mif\u001b[39;00m _has(res[\u001b[38;5;241m0\u001b[39m], meijerg):\n",
      "File \u001b[0;32m~/.conda/envs/d2l/lib/python3.9/site-packages/sympy/integrals/meijerint.py:1976\u001b[0m, in \u001b[0;36m_meijerint_definite_2\u001b[0;34m(f, x)\u001b[0m\n\u001b[1;32m   1974\u001b[0m \u001b[38;5;28;01mfor\u001b[39;00m g, explanation \u001b[38;5;129;01min\u001b[39;00m _guess_expansion(f, x):\n\u001b[1;32m   1975\u001b[0m     _debug(\u001b[38;5;124m'\u001b[39m\u001b[38;5;124mTrying\u001b[39m\u001b[38;5;124m'\u001b[39m, explanation)\n\u001b[0;32m-> 1976\u001b[0m     res \u001b[38;5;241m=\u001b[39m \u001b[43m_meijerint_definite_3\u001b[49m\u001b[43m(\u001b[49m\u001b[43mg\u001b[49m\u001b[43m,\u001b[49m\u001b[43m \u001b[49m\u001b[43mx\u001b[49m\u001b[43m)\u001b[49m\n\u001b[1;32m   1977\u001b[0m     \u001b[38;5;28;01mif\u001b[39;00m res:\n\u001b[1;32m   1978\u001b[0m         \u001b[38;5;28;01mreturn\u001b[39;00m res\n",
      "File \u001b[0;32m~/.conda/envs/d2l/lib/python3.9/site-packages/sympy/integrals/meijerint.py:1993\u001b[0m, in \u001b[0;36m_meijerint_definite_3\u001b[0;34m(f, x)\u001b[0m\n\u001b[1;32m   1991\u001b[0m \u001b[38;5;28;01mif\u001b[39;00m f\u001b[38;5;241m.\u001b[39mis_Add:\n\u001b[1;32m   1992\u001b[0m     _debug(\u001b[38;5;124m'\u001b[39m\u001b[38;5;124mExpanding and evaluating all terms.\u001b[39m\u001b[38;5;124m'\u001b[39m)\n\u001b[0;32m-> 1993\u001b[0m     ress \u001b[38;5;241m=\u001b[39m [_meijerint_definite_4(g, x) \u001b[38;5;28;01mfor\u001b[39;00m g \u001b[38;5;129;01min\u001b[39;00m f\u001b[38;5;241m.\u001b[39margs]\n\u001b[1;32m   1994\u001b[0m     \u001b[38;5;28;01mif\u001b[39;00m \u001b[38;5;28mall\u001b[39m(r \u001b[38;5;129;01mis\u001b[39;00m \u001b[38;5;129;01mnot\u001b[39;00m \u001b[38;5;28;01mNone\u001b[39;00m \u001b[38;5;28;01mfor\u001b[39;00m r \u001b[38;5;129;01min\u001b[39;00m ress):\n\u001b[1;32m   1995\u001b[0m         conds \u001b[38;5;241m=\u001b[39m []\n",
      "File \u001b[0;32m~/.conda/envs/d2l/lib/python3.9/site-packages/sympy/integrals/meijerint.py:1993\u001b[0m, in \u001b[0;36m<listcomp>\u001b[0;34m(.0)\u001b[0m\n\u001b[1;32m   1991\u001b[0m \u001b[38;5;28;01mif\u001b[39;00m f\u001b[38;5;241m.\u001b[39mis_Add:\n\u001b[1;32m   1992\u001b[0m     _debug(\u001b[38;5;124m'\u001b[39m\u001b[38;5;124mExpanding and evaluating all terms.\u001b[39m\u001b[38;5;124m'\u001b[39m)\n\u001b[0;32m-> 1993\u001b[0m     ress \u001b[38;5;241m=\u001b[39m [\u001b[43m_meijerint_definite_4\u001b[49m\u001b[43m(\u001b[49m\u001b[43mg\u001b[49m\u001b[43m,\u001b[49m\u001b[43m \u001b[49m\u001b[43mx\u001b[49m\u001b[43m)\u001b[49m \u001b[38;5;28;01mfor\u001b[39;00m g \u001b[38;5;129;01min\u001b[39;00m f\u001b[38;5;241m.\u001b[39margs]\n\u001b[1;32m   1994\u001b[0m     \u001b[38;5;28;01mif\u001b[39;00m \u001b[38;5;28mall\u001b[39m(r \u001b[38;5;129;01mis\u001b[39;00m \u001b[38;5;129;01mnot\u001b[39;00m \u001b[38;5;28;01mNone\u001b[39;00m \u001b[38;5;28;01mfor\u001b[39;00m r \u001b[38;5;129;01min\u001b[39;00m ress):\n\u001b[1;32m   1995\u001b[0m         conds \u001b[38;5;241m=\u001b[39m []\n",
      "File \u001b[0;32m~/.conda/envs/d2l/lib/python3.9/site-packages/sympy/integrals/meijerint.py:2027\u001b[0m, in \u001b[0;36m_meijerint_definite_4\u001b[0;34m(f, x, only_double)\u001b[0m\n\u001b[1;32m   2025\u001b[0m \u001b[38;5;66;03m# Try single G function.\u001b[39;00m\n\u001b[1;32m   2026\u001b[0m \u001b[38;5;28;01mif\u001b[39;00m \u001b[38;5;129;01mnot\u001b[39;00m only_double:\n\u001b[0;32m-> 2027\u001b[0m     gs \u001b[38;5;241m=\u001b[39m \u001b[43m_rewrite1\u001b[49m\u001b[43m(\u001b[49m\u001b[43mf\u001b[49m\u001b[43m,\u001b[49m\u001b[43m \u001b[49m\u001b[43mx\u001b[49m\u001b[43m,\u001b[49m\u001b[43m \u001b[49m\u001b[43mrecursive\u001b[49m\u001b[38;5;241;43m=\u001b[39;49m\u001b[38;5;28;43;01mFalse\u001b[39;49;00m\u001b[43m)\u001b[49m\n\u001b[1;32m   2028\u001b[0m     \u001b[38;5;28;01mif\u001b[39;00m gs \u001b[38;5;129;01mis\u001b[39;00m \u001b[38;5;129;01mnot\u001b[39;00m \u001b[38;5;28;01mNone\u001b[39;00m:\n\u001b[1;32m   2029\u001b[0m         fac, po, g, cond \u001b[38;5;241m=\u001b[39m gs\n",
      "File \u001b[0;32m~/.conda/envs/d2l/lib/python3.9/site-packages/sympy/integrals/meijerint.py:1623\u001b[0m, in \u001b[0;36m_rewrite1\u001b[0;34m(f, x, recursive)\u001b[0m\n\u001b[1;32m   1615\u001b[0m \u001b[38;5;124;03m\"\"\"\u001b[39;00m\n\u001b[1;32m   1616\u001b[0m \u001b[38;5;124;03mTry to rewrite ``f`` using a (sum of) single G functions with argument a*x**b.\u001b[39;00m\n\u001b[1;32m   1617\u001b[0m \u001b[38;5;124;03mReturn fac, po, g such that f = fac*po*g, fac is independent of ``x``.\u001b[39;00m\n\u001b[0;32m   (...)\u001b[0m\n\u001b[1;32m   1620\u001b[0m \u001b[38;5;124;03mReturn None on failure.\u001b[39;00m\n\u001b[1;32m   1621\u001b[0m \u001b[38;5;124;03m\"\"\"\u001b[39;00m\n\u001b[1;32m   1622\u001b[0m fac, po, g \u001b[38;5;241m=\u001b[39m _split_mul(f, x)\n\u001b[0;32m-> 1623\u001b[0m g \u001b[38;5;241m=\u001b[39m \u001b[43m_rewrite_single\u001b[49m\u001b[43m(\u001b[49m\u001b[43mg\u001b[49m\u001b[43m,\u001b[49m\u001b[43m \u001b[49m\u001b[43mx\u001b[49m\u001b[43m,\u001b[49m\u001b[43m \u001b[49m\u001b[43mrecursive\u001b[49m\u001b[43m)\u001b[49m\n\u001b[1;32m   1624\u001b[0m \u001b[38;5;28;01mif\u001b[39;00m g:\n\u001b[1;32m   1625\u001b[0m     \u001b[38;5;28;01mreturn\u001b[39;00m fac, po, g[\u001b[38;5;241m0\u001b[39m], g[\u001b[38;5;241m1\u001b[39m]\n",
      "File \u001b[0;32m~/.conda/envs/d2l/lib/python3.9/site-packages/sympy/core/cache.py:70\u001b[0m, in \u001b[0;36m__cacheit.<locals>.func_wrapper.<locals>.wrapper\u001b[0;34m(*args, **kwargs)\u001b[0m\n\u001b[1;32m     67\u001b[0m \u001b[38;5;129m@wraps\u001b[39m(func)\n\u001b[1;32m     68\u001b[0m \u001b[38;5;28;01mdef\u001b[39;00m \u001b[38;5;21mwrapper\u001b[39m(\u001b[38;5;241m*\u001b[39margs, \u001b[38;5;241m*\u001b[39m\u001b[38;5;241m*\u001b[39mkwargs):\n\u001b[1;32m     69\u001b[0m     \u001b[38;5;28;01mtry\u001b[39;00m:\n\u001b[0;32m---> 70\u001b[0m         retval \u001b[38;5;241m=\u001b[39m \u001b[43mcfunc\u001b[49m\u001b[43m(\u001b[49m\u001b[38;5;241;43m*\u001b[39;49m\u001b[43margs\u001b[49m\u001b[43m,\u001b[49m\u001b[43m \u001b[49m\u001b[38;5;241;43m*\u001b[39;49m\u001b[38;5;241;43m*\u001b[39;49m\u001b[43mkwargs\u001b[49m\u001b[43m)\u001b[49m\n\u001b[1;32m     71\u001b[0m     \u001b[38;5;28;01mexcept\u001b[39;00m \u001b[38;5;167;01mTypeError\u001b[39;00m \u001b[38;5;28;01mas\u001b[39;00m e:\n\u001b[1;32m     72\u001b[0m         \u001b[38;5;28;01mif\u001b[39;00m \u001b[38;5;129;01mnot\u001b[39;00m e\u001b[38;5;241m.\u001b[39margs \u001b[38;5;129;01mor\u001b[39;00m \u001b[38;5;129;01mnot\u001b[39;00m e\u001b[38;5;241m.\u001b[39margs[\u001b[38;5;241m0\u001b[39m]\u001b[38;5;241m.\u001b[39mstartswith(\u001b[38;5;124m'\u001b[39m\u001b[38;5;124munhashable type:\u001b[39m\u001b[38;5;124m'\u001b[39m):\n",
      "File \u001b[0;32m~/.conda/envs/d2l/lib/python3.9/site-packages/sympy/integrals/meijerint.py:1530\u001b[0m, in \u001b[0;36m_rewrite_single\u001b[0;34m(f, x, recursive)\u001b[0m\n\u001b[1;32m   1528\u001b[0m res \u001b[38;5;241m=\u001b[39m []\n\u001b[1;32m   1529\u001b[0m \u001b[38;5;28;01mfor\u001b[39;00m fac, g \u001b[38;5;129;01min\u001b[39;00m terms:\n\u001b[0;32m-> 1530\u001b[0m     r1 \u001b[38;5;241m=\u001b[39m \u001b[43m_get_coeff_exp\u001b[49m\u001b[43m(\u001b[49m\u001b[43munpolarify\u001b[49m\u001b[43m(\u001b[49m\u001b[43mfac\u001b[49m\u001b[38;5;241;43m.\u001b[39;49m\u001b[43msubs\u001b[49m\u001b[43m(\u001b[49m\u001b[43msubs\u001b[49m\u001b[43m)\u001b[49m\u001b[38;5;241;43m.\u001b[39;49m\u001b[43msubs\u001b[49m\u001b[43m(\u001b[49m\u001b[43mz\u001b[49m\u001b[43m,\u001b[49m\u001b[43m \u001b[49m\u001b[43mx\u001b[49m\u001b[43m)\u001b[49m\u001b[43m,\u001b[49m\n\u001b[1;32m   1531\u001b[0m \u001b[43m                                   \u001b[49m\u001b[43mexponents_only\u001b[49m\u001b[38;5;241;43m=\u001b[39;49m\u001b[38;5;28;43;01mTrue\u001b[39;49;00m\u001b[43m)\u001b[49m\u001b[43m,\u001b[49m\u001b[43m \u001b[49m\u001b[43mx\u001b[49m\u001b[43m)\u001b[49m\n\u001b[1;32m   1532\u001b[0m     \u001b[38;5;28;01mtry\u001b[39;00m:\n\u001b[1;32m   1533\u001b[0m         g \u001b[38;5;241m=\u001b[39m g\u001b[38;5;241m.\u001b[39msubs(subs)\u001b[38;5;241m.\u001b[39msubs(z, x)\n",
      "File \u001b[0;32m~/.conda/envs/d2l/lib/python3.9/site-packages/sympy/integrals/meijerint.py:351\u001b[0m, in \u001b[0;36m_get_coeff_exp\u001b[0;34m(expr, x)\u001b[0m\n\u001b[1;32m    349\u001b[0m     \u001b[38;5;28;01mreturn\u001b[39;00m c, S\u001b[38;5;241m.\u001b[39mOne\n\u001b[1;32m    350\u001b[0m \u001b[38;5;28;01melse\u001b[39;00m:\n\u001b[0;32m--> 351\u001b[0m     \u001b[38;5;28;01mraise\u001b[39;00m _CoeffExpValueError(\u001b[38;5;124m'\u001b[39m\u001b[38;5;124mexpr not of form a*x**b: \u001b[39m\u001b[38;5;132;01m%s\u001b[39;00m\u001b[38;5;124m'\u001b[39m \u001b[38;5;241m%\u001b[39m expr)\n",
      "\u001b[0;31m_CoeffExpValueError\u001b[0m: expr not of form a*x**b: 1139.73669985718"
     ]
    }
   ],
   "source": [
    "x=Symbol('x')\n",
    "f = P-(R*T/x)\n",
    "integrate(f, (x, V, oo))"
   ]
  }
 ],
 "metadata": {
  "kernelspec": {
   "display_name": "d2l:Python",
   "language": "python",
   "name": "conda-env-d2l-py"
  },
  "language_info": {
   "codemirror_mode": {
    "name": "ipython",
    "version": 3
   },
   "file_extension": ".py",
   "mimetype": "text/x-python",
   "name": "python",
   "nbconvert_exporter": "python",
   "pygments_lexer": "ipython3",
   "version": "3.9.13"
  }
 },
 "nbformat": 4,
 "nbformat_minor": 5
}
