{
 "cells": [
  {
   "cell_type": "markdown",
   "id": "aff07b32-b25b-44c5-9c88-e9c7e1c4089d",
   "metadata": {},
   "source": [
    "# 計算手順\n",
    "- ① 状態方程式（Van der Waals式など）を用いて、圧力から液相、気相の体積を計算\n",
    "- ② 液相と気相のフガシティを計算\n",
    "- ③ フガシティが等しい時の液相、気相のモル分率を計算"
   ]
  },
  {
   "cell_type": "code",
   "execution_count": 41,
   "id": "9b631c0a-416d-4718-a151-a491f46f0453",
   "metadata": {},
   "outputs": [
    {
     "name": "stdout",
     "output_type": "stream",
     "text": [
      "Collecting sympy\n",
      "  Downloading sympy-1.10.1-py3-none-any.whl (6.4 MB)\n",
      "\u001b[2K     \u001b[90m━━━━━━━━━━━━━━━━━━━━━━━━━━━━━━━━━━━━━━━━\u001b[0m \u001b[32m6.4/6.4 MB\u001b[0m \u001b[31m19.0 MB/s\u001b[0m eta \u001b[36m0:00:00\u001b[0m00:01\u001b[0m00:01\u001b[0m\n",
      "\u001b[?25hCollecting mpmath>=0.19\n",
      "  Downloading mpmath-1.2.1-py3-none-any.whl (532 kB)\n",
      "\u001b[2K     \u001b[90m━━━━━━━━━━━━━━━━━━━━━━━━━━━━━━━━━━━━━━\u001b[0m \u001b[32m532.6/532.6 kB\u001b[0m \u001b[31m28.8 MB/s\u001b[0m eta \u001b[36m0:00:00\u001b[0m\n",
      "\u001b[?25hInstalling collected packages: mpmath, sympy\n",
      "Successfully installed mpmath-1.2.1 sympy-1.10.1\n",
      "Note: you may need to restart the kernel to use updated packages.\n"
     ]
    }
   ],
   "source": [
    "pip install sympy"
   ]
  },
  {
   "cell_type": "code",
   "execution_count": 2,
   "id": "f7e3c803-aa91-46d9-926e-effbe009b60b",
   "metadata": {},
   "outputs": [],
   "source": [
    "from scipy.optimize import fsolve\n",
    "import math\n",
    "import sympy\n",
    "import re\n",
    "import numpy as np"
   ]
  },
  {
   "cell_type": "code",
   "execution_count": 31,
   "id": "181c26b3-c7fb-4eb3-9358-610d8fd461d3",
   "metadata": {},
   "outputs": [
    {
     "name": "stdout",
     "output_type": "stream",
     "text": [
      "#####  \n",
      "Results of The fugacity coefficient  #####\n",
      "       \n",
      "φ1:  1.0574995651175343\n",
      "       \n",
      "φ2:  0.801865147851965\n"
     ]
    }
   ],
   "source": [
    "# Variables\n",
    "T = 460.\t\t\t#[K] - Temperature\n",
    "P = 40.*10**(5)\t\t\t#[Pa] - Pressure\n",
    "R=8.314\t\t\t#[J/mol*K] - Universal gas constant\n",
    "# component 1 = nitrogen\n",
    "# component 2 = n-Butane\n",
    "y1 = 0.4974\t\t\t# Mole percent of nitrogen\n",
    "y2 = 0.5026\t\t\t# Mole percent of n-Butane\n",
    "Tc_nit = 126.2\t\t#[K]\n",
    "Pc_nit = 34.00*10**(5)\t\t\t#[Pa]\n",
    "Tc_but = 425.1\t\t\t#[K]\n",
    "Pc_but = 37.96*10**(5)\t\t\t#[Pa]\n",
    "\n",
    "# (1). van der Walls equation of state\n",
    "\n",
    "# The fugacity coefficient of component 1 in a binary mixture following van der Walls equation of state is given by,\n",
    "# math.log(phi_1) = b_1/(V-b) - math.log(Z-B) -2*(y1*a_11 + y2*a_12)/(R*T*V)\n",
    "# and for component 2 is given by,\n",
    "# math.log(phi_2) = b_2/(V-b) - math.log(Z-B) -2*(y1*a_12 + y2*a_22)/(R*T*V)\n",
    "# Where B = (P*b)/(R*T)\n",
    "\n",
    "# Calculations\n",
    "# For componenet 1 (nitrogen)\n",
    "a_1 = (27*R**(2)*Tc_nit**(2))/(64*Pc_nit)\t\t\t#[Pa-m**(6)/mol**(2)]\n",
    "b_1 = (R*Tc_nit)/(8*Pc_nit)\t\t\t#[m**(3)/mol]\n",
    "\n",
    "# Similarly for componenet 2 (n-Butane)\n",
    "a_2 = (27*R**(2)*Tc_but**(2))/(64*Pc_but)\t\t#[Pa-m**(6)/mol**(2)]\n",
    "b_2 = (R*Tc_but)/(8*Pc_but)\t\t\t#[m**(3)/mol]\n",
    "\n",
    "# Here\n",
    "a_11 = a_1\n",
    "a_22 = a_2\n",
    "# For cross coefficient\n",
    "a_12 = (a_1*a_2)**(1./2)\t\t#[Pa-m**(6)/mol**(2)]\n",
    "\n",
    "# For the mixture \n",
    "a = y1**(2)*a_11 + y2**(2)*a_22 + 2*y1*y2*a_12\t\t\t#[Pa-m**(6)/mol**(2)]\n",
    "b = y1*b_1 + y2*b_2\t\t\t#[m**(3)/mol]\n",
    "\n",
    "# The cubic form of the van der Walls equation of state is given by,\n",
    "# V**(3) - (b+(R*T)/P)*V**(2) + (a/P)*V - (a*b)/P = 0\n",
    "# Substituting the value and solving for V, we get\n",
    "# Solving the cubic equation\n",
    "def f(V): \n",
    "    return V**(3)-(b+(R*T)/P)*V**(2)+(a/P)*V-(a*b)/P\n",
    "V_1=fsolve(f,-1)\n",
    "V_2=fsolve(f,0)\n",
    "V_3=fsolve(f,1)\n",
    "# The molar volume V = V_3, the other two roots are imaginary\n",
    "V = V_3\t\t\t#[m**(3)/mol]\n",
    "\n",
    "# The comprssibility factor of the mixture is \n",
    "Z = (P*V)/(R*T)\n",
    "# And B can also be calculated as\n",
    "B = (P*b)/(R*T)\n",
    "\n",
    "# The fugacity coefficient of component 1 in the mixture is\n",
    "phi_1 = math.exp(b_1/(V-b) - math.log(Z-B) -2*(y1*a_11 + y2*a_12)/(R*T*V))\n",
    "# Similarly fugacity coefficient of component 2 in the mixture is \n",
    "phi_2 = math.exp(b_2/(V-b) - math.log(Z-B) -2*(y1*a_12 + y2*a_22)/(R*T*V))\n",
    "\n",
    "# The fugacity coefficient of the mixture is given by,\n",
    "# math.log(phi) = y1*math.log(phi_1) + y2*math.log(phi_2)\n",
    "phi = math.exp(y1*math.log(phi_1) + y2*math.log(phi_2))\n",
    "\n",
    "# Also the fugacity coefficient of the mixture following van der Walls equation of state is given by,\n",
    "# math.log(phi) = b/(V-b) - math.log(Z-B) -2*a/(R*T*V)\n",
    "phi_dash = math.exp(b/(V-b) - math.log(Z-B) -2*a/(R*T*V))\n",
    "# The result is same as obtained above\n",
    "\n",
    "# Results\n",
    "\n",
    "###\n",
    "#print (\" 1van der Walls equation of state\");\n",
    "#print (\"  The value of fugacity coefficient of component 1 nitrogen) is %f\"%(phi_1));\n",
    "#print (\"  The value of fugacity coefficient of component 2 n-butane) is %f\"%(phi_2));\n",
    "#print (\"  The value of fugacity coefficient of the mixture is %f\"%(phi));\n",
    "#print (\"  Also the fugacity coefficient of the mixture from van der Walls equation of state is %f which is same as above)\"%(phi_dash));\n",
    "###\n",
    "#print(phi_1,phi_2,phi,phi_dash)\n",
    "\n",
    "print(\"#####  \\nResults of The fugacity coefficient  #####\")\n",
    "print(\"       \\nφ1: \",phi_1)\n",
    "print(\"       \\nφ2: \",phi_2)"
   ]
  },
  {
   "cell_type": "code",
   "execution_count": 32,
   "id": "2a449871-4fa8-4158-97f9-50d4e679d0a0",
   "metadata": {},
   "outputs": [
    {
     "name": "stdout",
     "output_type": "stream",
     "text": [
      "\n",
      "#####  Results of The Mole Percent of each component  #####\n",
      "       \n",
      "x1(nitrogen):  0.4312575915089545\n",
      "       \n",
      "x2(n-Butane):  0.5687424084910455\n"
     ]
    }
   ],
   "source": [
    "# when phi_1 = phi_2\n",
    "# math.exp(b_1/(V-b) - math.log(Z-B) -2*(y1*a_11 + (1-y1)*a_12)/(R*T*V)) \n",
    "# = math.exp(b_2/(V-b) - math.log(Z-B) -2*(y1*a_12 + (1-y1)*a_22)/(R*T*V));\n",
    "# print(b_1/(V-b), b_2/(V-b), math.log(Z-B), a_11, a_12, a_22, R*T*V)\n",
    "def f(x1):\n",
    "    return phi_1 * x1 * P\n",
    "def g(x2):\n",
    "    return phi_2 * x2 * P\n",
    "def h(x1, x2):\n",
    "    return f(x1) - g(x2)\n",
    "sympy.var('x1x2, x2x1')\n",
    "#print(1 / (1 + 1.31879976072082))\n",
    "#print(1.31879976072082 / (1 + 1.31879976072082))\n",
    "x1x2 = np.array(sympy.solve(phi_1 * x1x2 * P - phi_2 * P, x1x2)) #x1 / x2\n",
    "x2x1 = np.array(sympy.solve(phi_1 * P - phi_2 * x2x1 * P, x2x1)) #x2 / x1\n",
    "#print(x1x2, x2x1)\n",
    "sympy.var('x1, x2')\n",
    "x = np.zeros(2)\n",
    "x[0] = np.array(sympy.factor(x1 / (x1 + x1 * x2x1)))\n",
    "x[1] = np.array(sympy.factor(x2 / (x2 + x2 * x1x2)))\n",
    "print(\"\\n#####  Results of The Mole Percent of each component  #####\")\n",
    "print(\"       \\nx1(nitrogen): \", x[0])\n",
    "print(\"       \\nx2(n-Butane): \", x[1])"
   ]
  }
 ],
 "metadata": {
  "kernelspec": {
   "display_name": "d2l:Python",
   "language": "python",
   "name": "conda-env-d2l-py"
  },
  "language_info": {
   "codemirror_mode": {
    "name": "ipython",
    "version": 3
   },
   "file_extension": ".py",
   "mimetype": "text/x-python",
   "name": "python",
   "nbconvert_exporter": "python",
   "pygments_lexer": "ipython3",
   "version": "3.9.13"
  }
 },
 "nbformat": 4,
 "nbformat_minor": 5
}
