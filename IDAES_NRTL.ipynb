{
 "cells": [
  {
   "cell_type": "code",
   "execution_count": null,
   "id": "7f9276cd-8150-4d4f-93c0-d784b1e36314",
   "metadata": {},
   "outputs": [],
   "source": [
    "pip install idaes-pse"
   ]
  },
  {
   "cell_type": "code",
   "execution_count": 2,
   "id": "7aaf6cdc-c19a-4ecf-9654-7110a02e3331",
   "metadata": {},
   "outputs": [],
   "source": [
    "from pyomo.environ import ConcreteModel, SolverFactory, Constraint, value\n",
    "from idaes.core import FlowsheetBlock\n",
    "\n",
    "# Import idaes logger to set output levels\n",
    "import idaes.logger as idaeslog"
   ]
  },
  {
   "cell_type": "code",
   "execution_count": 3,
   "id": "f2c59bb3-8d79-4fab-b7ab-a355d856480f",
   "metadata": {},
   "outputs": [
    {
     "name": "stderr",
     "output_type": "stream",
     "text": [
      "2022-07-12 03:51:10,409 [INFO] idaes.dmf.workspace: Using existing DMF workspace: /home/studio-lab-user/.idaes/workshop_workspace/config.yaml\n",
      "2022-07-12 03:51:10,410 [INFO] idaes.dmf.workspace: Using existing path for new DMF workspace: /home/studio-lab-user/.idaes/workshop_workspace\n",
      "2022-07-12 03:51:10,414 [INFO] idaes.dmf.dmfbase: Saving configuration location to: /home/studio-lab-user/.dmf\n"
     ]
    }
   ],
   "source": [
    "from idaes.dmf import DMF, magics\n",
    "from pathlib import Path\n",
    "idaes_home = Path(\"~/.idaes\").expanduser()\n",
    "if not idaes_home.exists():\n",
    "    idaes_home.mkdir()\n",
    "wspath = idaes_home / \"workshop_workspace\"\n",
    "_dmf = DMF(wspath, create=True)"
   ]
  },
  {
   "cell_type": "code",
   "execution_count": 4,
   "id": "7d94c6fb-f139-43c8-aba4-6e1cbe0dc64b",
   "metadata": {},
   "outputs": [
    {
     "name": "stderr",
     "output_type": "stream",
     "text": [
      "2022-07-12 03:51:12,380 [INFO] idaes.dmf.dmfbase: Saving configuration location to: /home/studio-lab-user/.dmf\n"
     ]
    },
    {
     "data": {
      "text/markdown": [
       "*Success!* Using workspace at \"/home/studio-lab-user/.idaes/workshop_workspace\""
      ]
     },
     "metadata": {},
     "output_type": "display_data"
    },
    {
     "data": {
      "text/markdown": [
       "| ID | Name(s) | Type | Modified | Description | \n",
       "| -- | ------- | ---- | -------- | ----------- |"
      ]
     },
     "metadata": {},
     "output_type": "display_data"
    },
    {
     "data": {
      "text/plain": [
       "True"
      ]
     },
     "execution_count": 4,
     "metadata": {},
     "output_type": "execute_result"
    }
   ],
   "source": [
    "%dmf init ~/.idaes/workshop_workspace\n",
    "%dmf list"
   ]
  },
  {
   "cell_type": "code",
   "execution_count": 5,
   "id": "06583737-3bf4-4cee-90be-46652ea92180",
   "metadata": {},
   "outputs": [],
   "source": [
    "m = ConcreteModel()\n",
    "m.fs = FlowsheetBlock(default={\"dynamic\": False})"
   ]
  },
  {
   "cell_type": "code",
   "execution_count": 6,
   "id": "eea0e8a3-9ad3-433f-9f2e-cbfb3b7e04d4",
   "metadata": {},
   "outputs": [],
   "source": [
    "from idaes.generic_models.properties.activity_coeff_models.BTX_activity_coeff_VLE \\\n",
    "    import BTXParameterBlock\n",
    "\n",
    "m.fs.properties = BTXParameterBlock(\n",
    "    default={\n",
    "        \"valid_phase\":('Liq', 'Vap'),\n",
    "        \"activity_coeff_model\": 'NRTL'\n",
    "    }\n",
    ")"
   ]
  },
  {
   "cell_type": "code",
   "execution_count": 7,
   "id": "4fe0e81d-117a-4b69-9d79-90eac60cd21f",
   "metadata": {},
   "outputs": [
    {
     "data": {
      "application/vnd.jupyter.widget-view+json": {
       "model_id": "4db1229cfe6347f3a4302f9231da99b5",
       "version_major": 2,
       "version_minor": 0
      },
      "text/plain": [
       "Dropdown(description='Choose estimated parameter split', options=('1', '2'), style=DescriptionStyle(descriptio…"
      ]
     },
     "metadata": {},
     "output_type": "display_data"
    }
   ],
   "source": [
    "# Select estimated NRTL parameter split to use\n",
    "from ipywidgets import widgets\n",
    "w = widgets.Dropdown(options=[\"1\", \"2\"], value=\"1\", description=\"Choose estimated parameter split\",\n",
    "                    style={\"description_width\": \"initial\"})\n",
    "display(w)\n",
    "use_split = w.value"
   ]
  },
  {
   "cell_type": "code",
   "execution_count": 1,
   "id": "d21b132b-4ad6-4677-aaee-f6ae67a31160",
   "metadata": {},
   "outputs": [
    {
     "ename": "NameError",
     "evalue": "name '_dmf' is not defined",
     "output_type": "error",
     "traceback": [
      "\u001b[0;31m---------------------------------------------------------------------------\u001b[0m",
      "\u001b[0;31mNameError\u001b[0m                                 Traceback (most recent call last)",
      "\u001b[0;32m/tmp/ipykernel_358/2687824310.py\u001b[0m in \u001b[0;36m<cell line: 25>\u001b[0;34m()\u001b[0m\n\u001b[1;32m     23\u001b[0m \u001b[0;34m\u001b[0m\u001b[0m\n\u001b[1;32m     24\u001b[0m \u001b[0;31m# Find & load NRTL parameters for the chosen split in the DMF\u001b[0m\u001b[0;34m\u001b[0m\u001b[0;34m\u001b[0m\u001b[0m\n\u001b[0;32m---> 25\u001b[0;31m \u001b[0mrecords\u001b[0m \u001b[0;34m=\u001b[0m \u001b[0m_dmf\u001b[0m\u001b[0;34m.\u001b[0m\u001b[0mfind_one\u001b[0m\u001b[0;34m(\u001b[0m\u001b[0mname\u001b[0m\u001b[0;34m=\u001b[0m\u001b[0;34mf\"BT NRTL est param{use_split}\"\u001b[0m\u001b[0;34m)\u001b[0m\u001b[0;34m\u001b[0m\u001b[0;34m\u001b[0m\u001b[0m\n\u001b[0m\u001b[1;32m     26\u001b[0m \u001b[0;32mif\u001b[0m \u001b[0mrecords\u001b[0m\u001b[0;34m:\u001b[0m\u001b[0;34m\u001b[0m\u001b[0;34m\u001b[0m\u001b[0m\n\u001b[1;32m     27\u001b[0m     \u001b[0;31m# Create NRTL model with parameters\u001b[0m\u001b[0;34m\u001b[0m\u001b[0;34m\u001b[0m\u001b[0m\n",
      "\u001b[0;31mNameError\u001b[0m: name '_dmf' is not defined"
     ]
    }
   ],
   "source": [
    "def NRTL_model(model, data):\n",
    "    props = model.fs.properties\n",
    "    # Fix NRTL specific variables\n",
    "    # alpha values (set at 0.3)\n",
    "    props.alpha[\"benzene\", \"benzene\"].fix(0)\n",
    "    props.alpha[\"benzene\", \"toluene\"].fix(0.3)\n",
    "    props.alpha[\"toluene\", \"toluene\"].fix(0)\n",
    "    props.alpha[\"toluene\", \"benzene\"].fix(0.3)\n",
    "\n",
    "    # initial tau values\n",
    "    tau = data[\"parameters\"][\"tau\"]\n",
    "    props.tau[\"benzene\", \"benzene\"].fix(0)\n",
    "    props.tau[\"benzene\", \"toluene\"].fix(tau[\"benzene,toluene\"])\n",
    "    props.tau[\"toluene\", \"toluene\"].fix(0)\n",
    "    props.tau[\"toluene\", \"benzene\"].fix(tau[\"toluene,benzene\"])\n",
    "\n",
    "    # Set bounds on variables to be estimated\n",
    "    props.tau[\"benzene\", \"toluene\"].setlb(-5)\n",
    "    props.tau[\"benzene\", \"toluene\"].setub(5)\n",
    "\n",
    "    props.tau[\"toluene\", \"benzene\"].setlb(-5)\n",
    "    props.tau[\"toluene\", \"benzene\"].setub(5)\n",
    "\n",
    "# Find & load NRTL parameters for the chosen split in the DMF\n",
    "records = _dmf.find_one(name=f\"BT NRTL est param{use_split}\")\n",
    "if records:\n",
    "    # Create NRTL model with parameters\n",
    "    NRTL_model(m, records.data)\n",
    "else:\n",
    "    print(\"No data found in DMF: Abort\")\n",
    "    exit(0)"
   ]
  },
  {
   "cell_type": "code",
   "execution_count": null,
   "id": "6e60044e-80e2-4f65-bd3a-260d08fd55d0",
   "metadata": {},
   "outputs": [],
   "source": [
    "from idaes.generic_models.unit_models import Flash\n",
    "m.fs.flash = Flash(default={\"property_package\": m.fs.properties})"
   ]
  },
  {
   "cell_type": "code",
   "execution_count": null,
   "id": "467b41f2-999a-4082-b506-a404ac0baffa",
   "metadata": {},
   "outputs": [],
   "source": []
  }
 ],
 "metadata": {
  "kernelspec": {
   "display_name": "d2l:Python",
   "language": "python",
   "name": "conda-env-d2l-py"
  },
  "language_info": {
   "codemirror_mode": {
    "name": "ipython",
    "version": 3
   },
   "file_extension": ".py",
   "mimetype": "text/x-python",
   "name": "python",
   "nbconvert_exporter": "python",
   "pygments_lexer": "ipython3",
   "version": "3.9.13"
  }
 },
 "nbformat": 4,
 "nbformat_minor": 5
}
