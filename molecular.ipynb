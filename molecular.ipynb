{
 "cells": [
  {
   "cell_type": "code",
   "execution_count": 1,
   "id": "66d8df77-5a48-4167-8c19-7a4ac50ebc4b",
   "metadata": {},
   "outputs": [],
   "source": [
    "import numpy as np\n",
    "import pandas as pd\n",
    "import os\n",
    "from os import path\n",
    "import matplotlib\n",
    "import matplotlib.pyplot as plt\n",
    "from scipy.integrate import odeint\n",
    "import math\n",
    "import random\n",
    "import datetime"
   ]
  },
  {
   "cell_type": "code",
   "execution_count": 4,
   "id": "56abd4b9-a4d8-481b-810d-02dfe6fbda31",
   "metadata": {},
   "outputs": [
    {
     "ename": "NameError",
     "evalue": "name 'Ak' is not defined",
     "output_type": "error",
     "traceback": [
      "\u001b[0;31m---------------------------------------------------------------------------\u001b[0m",
      "\u001b[0;31mNameError\u001b[0m                                 Traceback (most recent call last)",
      "Input \u001b[0;32mIn [4]\u001b[0m, in \u001b[0;36m<cell line: 14>\u001b[0;34m()\u001b[0m\n\u001b[1;32m     11\u001b[0m n \u001b[38;5;241m=\u001b[39m \u001b[38;5;241m0\u001b[39m\n\u001b[1;32m     13\u001b[0m \u001b[38;5;66;03m# Physical Model Equations\u001b[39;00m\n\u001b[0;32m---> 14\u001b[0m F \u001b[38;5;241m=\u001b[39m \u001b[43mAk\u001b[49m \u001b[38;5;241m/\u001b[39m (Ak \u001b[38;5;241m+\u001b[39m Av)\n\u001b[1;32m     15\u001b[0m G \u001b[38;5;241m=\u001b[39m P0 \u001b[38;5;241m*\u001b[39m (M \u001b[38;5;241m/\u001b[39m (\u001b[38;5;241m2\u001b[39m \u001b[38;5;241m*\u001b[39m π \u001b[38;5;241m*\u001b[39m Ru \u001b[38;5;241m*\u001b[39m T))\u001b[38;5;241m*\u001b[39m\u001b[38;5;241m*\u001b[39m(\u001b[38;5;241m0.5\u001b[39m) \u001b[38;5;241m*\u001b[39m (\u001b[38;5;241m1\u001b[39m \u001b[38;5;241m-\u001b[39m (\u001b[38;5;241m1\u001b[39m \u001b[38;5;241m-\u001b[39m F) \u001b[38;5;241m*\u001b[39m (\u001b[38;5;241m1\u001b[39m \u001b[38;5;241m-\u001b[39m e\u001b[38;5;241m*\u001b[39m\u001b[38;5;241m*\u001b[39m(\u001b[38;5;241m-\u001b[39mh \u001b[38;5;241m/\u001b[39m (k \u001b[38;5;241m*\u001b[39m b)))\u001b[38;5;241m*\u001b[39m\u001b[38;5;241m*\u001b[39mn)\n",
      "\u001b[0;31mNameError\u001b[0m: name 'Ak' is not defined"
     ]
    }
   ],
   "source": [
    "# Global Parameters\n",
    "T0 = 393              #Initial temperatures [K]\n",
    "m0 = [20, 50, 100]    #Initial mass flow rate [kg/h]\n",
    "x0 = [0.2, 0.5, 0.8]  #Initial composition of the mixture [-]\n",
    "L = 1                 #The length of the film [m]\n",
    "R = 0.1               #The radius of the evaporator [m]\n",
    "h = 0.02              #The distance between the surfaces of the evaporator and the condenser [m]\n",
    "g = 9.80665           #Gravitational acceleration [m/s2]\n",
    "ρ = 1                #Density [kg/m3]\n",
    "π = 3.14\n",
    "n = 0\n",
    "\n",
    "# Physical Model Equations\n",
    "F = Ak / (Ak + Av)\n",
    "G = P0 * (M / (2 * π * Ru * T))**(0.5) * (1 - (1 - F) * (1 - e**(-h / (k * b)))**n)"
   ]
  }
 ],
 "metadata": {
  "kernelspec": {
   "display_name": "d2l:Python",
   "language": "python",
   "name": "conda-env-d2l-py"
  },
  "language_info": {
   "codemirror_mode": {
    "name": "ipython",
    "version": 3
   },
   "file_extension": ".py",
   "mimetype": "text/x-python",
   "name": "python",
   "nbconvert_exporter": "python",
   "pygments_lexer": "ipython3",
   "version": "3.9.13"
  }
 },
 "nbformat": 4,
 "nbformat_minor": 5
}
