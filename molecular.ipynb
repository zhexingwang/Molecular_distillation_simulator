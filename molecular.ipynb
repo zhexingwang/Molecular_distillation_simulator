{
 "cells": [
  {
   "cell_type": "code",
   "execution_count": null,
   "id": "66d8df77-5a48-4167-8c19-7a4ac50ebc4b",
   "metadata": {},
   "outputs": [],
   "source": [
    "import numpy as np\n",
    "import pandas as pd\n",
    "import os\n",
    "from os import path\n",
    "import matplotlib\n",
    "import matplotlib.pyplot as plt\n",
    "from scipy.integrate import odeint\n",
    "import math\n",
    "import random\n",
    "import datetime"
   ]
  },
  {
   "cell_type": "code",
   "execution_count": null,
   "id": "56abd4b9-a4d8-481b-810d-02dfe6fbda31",
   "metadata": {},
   "outputs": [],
   "source": [
    "# Global Parameters\n",
    "T0 = 393              #Initial temperatures [K]\n",
    "m0 = [20, 50, 100]    #Initial mass flow rate [kg/h]\n",
    "x0 = [0.2, 0.5, 0.8]  #Initial composition of the mixture [-]\n",
    "L = 1                 #The length of the film [m]\n",
    "R = 0.1               #The radius of the evaporator [m]\n",
    "h = 0.02              #The distance between the surfaces of the evaporator and the condenser [m]\n",
    "g = 9.80665           #Gravitational acceleration [m/s2]\n",
    "ρ = 1                #Density [kg/m3]\n",
    "π = 3.14\n",
    "n = 0\n",
    "\n",
    "# Physical Model Equations\n",
    "F = Ak / (Ak + Av)\n",
    "G = P0 * (M / (2 * π * Ru * T))**(0.5) * (1 - (1 - F) * (1 - e**(-h / (k * b)))**n)"
   ]
  }
 ],
 "metadata": {
  "kernelspec": {
   "display_name": "d2l:Python",
   "language": "python",
   "name": "conda-env-d2l-py"
  },
  "language_info": {
   "codemirror_mode": {
    "name": "ipython",
    "version": 3
   },
   "file_extension": ".py",
   "mimetype": "text/x-python",
   "name": "python",
   "nbconvert_exporter": "python",
   "pygments_lexer": "ipython3",
   "version": "3.9.13"
  }
 },
 "nbformat": 4,
 "nbformat_minor": 5
}
