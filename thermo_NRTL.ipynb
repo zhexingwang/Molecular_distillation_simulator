{
 "cells": [
  {
   "cell_type": "code",
   "execution_count": 1,
   "id": "d839d7fc-64ab-4566-b5a6-4fd1311df8ae",
   "metadata": {},
   "outputs": [
    {
     "name": "stdout",
     "output_type": "stream",
     "text": [
      "Collecting thermo\n",
      "  Downloading thermo-0.2.21-py3-none-any.whl (7.4 MB)\n",
      "\u001b[2K     \u001b[90m━━━━━━━━━━━━━━━━━━━━━━━━━━━━━━━━━━━━━━━━\u001b[0m \u001b[32m7.4/7.4 MB\u001b[0m \u001b[31m14.1 MB/s\u001b[0m eta \u001b[36m0:00:00\u001b[0m00:01\u001b[0m00:01\u001b[0m\n",
      "\u001b[?25hRequirement already satisfied: pandas in /home/studio-lab-user/.conda/envs/d2l/lib/python3.9/site-packages (from thermo) (1.4.2)\n",
      "Requirement already satisfied: scipy in /home/studio-lab-user/.conda/envs/d2l/lib/python3.9/site-packages (from thermo) (1.8.1)\n",
      "Collecting fluids>=1.0.15\n",
      "  Downloading fluids-1.0.21-py3-none-any.whl (2.3 MB)\n",
      "\u001b[2K     \u001b[90m━━━━━━━━━━━━━━━━━━━━━━━━━━━━━━━━━━━━━━━━\u001b[0m \u001b[32m2.3/2.3 MB\u001b[0m \u001b[31m33.6 MB/s\u001b[0m eta \u001b[36m0:00:00\u001b[0ma \u001b[36m0:00:01\u001b[0m\n",
      "\u001b[?25hCollecting chemicals>=1.0.21\n",
      "  Downloading chemicals-1.1.1-py3-none-any.whl (23.3 MB)\n",
      "\u001b[2K     \u001b[90m━━━━━━━━━━━━━━━━━━━━━━━━━━━━━━━━━━━━━━━━\u001b[0m \u001b[32m23.3/23.3 MB\u001b[0m \u001b[31m53.9 MB/s\u001b[0m eta \u001b[36m0:00:00\u001b[0m00:01\u001b[0m00:01\u001b[0m\n",
      "\u001b[?25hRequirement already satisfied: numpy in /home/studio-lab-user/.conda/envs/d2l/lib/python3.9/site-packages (from chemicals>=1.0.21->thermo) (1.22.4)\n",
      "Requirement already satisfied: pytz>=2020.1 in /home/studio-lab-user/.conda/envs/d2l/lib/python3.9/site-packages (from pandas->thermo) (2022.1)\n",
      "Requirement already satisfied: python-dateutil>=2.8.1 in /home/studio-lab-user/.conda/envs/d2l/lib/python3.9/site-packages (from pandas->thermo) (2.8.2)\n",
      "Requirement already satisfied: six>=1.5 in /home/studio-lab-user/.conda/envs/d2l/lib/python3.9/site-packages (from python-dateutil>=2.8.1->pandas->thermo) (1.16.0)\n",
      "Installing collected packages: fluids, chemicals, thermo\n",
      "Successfully installed chemicals-1.1.1 fluids-1.0.21 thermo-0.2.21\n",
      "Note: you may need to restart the kernel to use updated packages.\n"
     ]
    }
   ],
   "source": [
    "pip install thermo"
   ]
  },
  {
   "cell_type": "code",
   "execution_count": 4,
   "id": "1b6424d4-28b4-4523-9782-78b035e530ed",
   "metadata": {},
   "outputs": [],
   "source": [
    "from thermo import *"
   ]
  },
  {
   "cell_type": "code",
   "execution_count": 7,
   "id": "8f863090-57fd-4ef9-b7d9-d50963e07ae3",
   "metadata": {},
   "outputs": [
    {
     "data": {
      "text/plain": [
       "[1.9360516514590682, 1.153663045208786]"
      ]
     },
     "execution_count": 7,
     "metadata": {},
     "output_type": "execute_result"
    }
   ],
   "source": [
    "from scipy.constants import calorie, R\n",
    "N = 2\n",
    "T = 70.0 + 273.15\n",
    "xs = [0.252, 0.748]\n",
    "tausA = tausE = tausF = tausG = tausH = alphaD = [[0.0]*N for i in range(N)]\n",
    "tausB = [[0, -121.2691/R*calorie], [1337.8574/R*calorie, 0]]\n",
    "alphaC =  [[0, 0.2974],[.2974, 0]]\n",
    "ABEFGHCD = (tausA, tausB, tausE, tausF, tausG, tausH, alphaC, alphaD)\n",
    "GE = NRTL(T=T, xs=xs, ABEFGHCD=ABEFGHCD)\n",
    "GE.gammas()"
   ]
  },
  {
   "cell_type": "code",
   "execution_count": 17,
   "id": "cbf7a8e4-dd33-421d-b0d0-206f8150d4b9",
   "metadata": {},
   "outputs": [
    {
     "data": {
      "text/plain": [
       "([[0.0, 0.0], [0.0, 0.0]],\n",
       " [[0, -61.0249799309399], [673.2359767282798, 0]],\n",
       " [[0.0, 0.0], [0.0, 0.0]],\n",
       " [[0.0, 0.0], [0.0, 0.0]],\n",
       " [[0.0, 0.0], [0.0, 0.0]],\n",
       " [[0.0, 0.0], [0.0, 0.0]],\n",
       " [[0, 0.2974], [0.2974, 0]],\n",
       " [[0.0, 0.0], [0.0, 0.0]])"
      ]
     },
     "execution_count": 17,
     "metadata": {},
     "output_type": "execute_result"
    }
   ],
   "source": [
    "ABEFGHCD"
   ]
  },
  {
   "cell_type": "code",
   "execution_count": 8,
   "id": "66786696-910a-4dc3-b4b2-9735cf7b0711",
   "metadata": {},
   "outputs": [
    {
     "data": {
      "text/plain": [
       "NRTL(T=343.15, xs=[0.252, 0.748], tau_bs=[[0, -61.0249799309399], [673.2359767282798, 0]], alpha_cs=[[0, 0.2974], [0.2974, 0]])"
      ]
     },
     "execution_count": 8,
     "metadata": {},
     "output_type": "execute_result"
    }
   ],
   "source": [
    "GE"
   ]
  },
  {
   "cell_type": "code",
   "execution_count": 9,
   "id": "8e0f1d48-08ee-49fc-b3b3-68f60e7c23cc",
   "metadata": {},
   "outputs": [
    {
     "data": {
      "text/plain": [
       "(780.0530572197882, 0.57435000227796, -0.0035848436055287663)"
      ]
     },
     "execution_count": 9,
     "metadata": {},
     "output_type": "execute_result"
    }
   ],
   "source": [
    "GE.GE(), GE.dGE_dT(), GE.d2GE_dT2()"
   ]
  },
  {
   "cell_type": "code",
   "execution_count": 10,
   "id": "03806f46-cf3c-4c4e-ace6-7a7246397bb2",
   "metadata": {},
   "outputs": [
    {
     "data": {
      "text/plain": [
       "(582.9648539381062,\n",
       " -0.5743500022779602,\n",
       " 1.2301390832371961,\n",
       " 0.003584843605528767)"
      ]
     },
     "execution_count": 10,
     "metadata": {},
     "output_type": "execute_result"
    }
   ],
   "source": [
    "GE.HE(), GE.SE(), GE.dHE_dT(), GE.dSE_dT()"
   ]
  },
  {
   "cell_type": "code",
   "execution_count": 18,
   "id": "89649100-3c34-439c-b8c1-1092e48e1627",
   "metadata": {},
   "outputs": [
    {
     "data": {
      "text/plain": [
       "[1.9363183763514304, 1.1537609663170014]"
      ]
     },
     "execution_count": 18,
     "metadata": {},
     "output_type": "execute_result"
    }
   ],
   "source": [
    "NRTL_gammas(xs=[0.252, 0.748], taus=[[0, -0.178], [1.963, 0]],\n",
    "alphas=[[0, 0.2974],[.2974, 0]])\n",
    "[1.9363183763514304, 1.1537609663170014]"
   ]
  }
 ],
 "metadata": {
  "kernelspec": {
   "display_name": "d2l:Python",
   "language": "python",
   "name": "conda-env-d2l-py"
  },
  "language_info": {
   "codemirror_mode": {
    "name": "ipython",
    "version": 3
   },
   "file_extension": ".py",
   "mimetype": "text/x-python",
   "name": "python",
   "nbconvert_exporter": "python",
   "pygments_lexer": "ipython3",
   "version": "3.9.13"
  }
 },
 "nbformat": 4,
 "nbformat_minor": 5
}
